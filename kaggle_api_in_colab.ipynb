{
  "nbformat": 4,
  "nbformat_minor": 0,
  "metadata": {
    "colab": {
      "name": "How to use the Kaggle API from Colab",
      "provenance": [],
      "toc_visible": true,
      "include_colab_link": true
    },
    "kernelspec": {
      "name": "python3",
      "display_name": "Python 3"
    }
  },
  "cells": [
    {
      "cell_type": "markdown",
      "metadata": {
        "id": "view-in-github",
        "colab_type": "text"
      },
      "source": [
        "<a href=\"https://colab.research.google.com/github/rajpushkar83/GoogleColab/blob/main/kaggle_api_in_colab.ipynb\" target=\"_parent\"><img src=\"https://colab.research.google.com/assets/colab-badge.svg\" alt=\"Open In Colab\"/></a>"
      ]
    },
    {
      "metadata": {
        "id": "DIf2PtekjPtY"
      },
      "cell_type": "markdown",
      "source": [
        "# Installing the [Kaggle API](https://github.com/Kaggle/kaggle-api) in Colab"
      ]
    },
    {
      "metadata": {
        "id": "OppyMnCuWjzJ",
        "colab": {
          "base_uri": "https://localhost:8080/"
        },
        "outputId": "1e9650cc-0416-403a-8c83-b200ea7ef704"
      },
      "cell_type": "code",
      "source": [
        "!pip install kaggle"
      ],
      "execution_count": 1,
      "outputs": [
        {
          "output_type": "stream",
          "name": "stdout",
          "text": [
            "Requirement already satisfied: kaggle in /usr/local/lib/python3.11/dist-packages (1.7.4.5)\n",
            "Requirement already satisfied: bleach in /usr/local/lib/python3.11/dist-packages (from kaggle) (6.2.0)\n",
            "Requirement already satisfied: certifi>=14.05.14 in /usr/local/lib/python3.11/dist-packages (from kaggle) (2025.4.26)\n",
            "Requirement already satisfied: charset-normalizer in /usr/local/lib/python3.11/dist-packages (from kaggle) (3.4.2)\n",
            "Requirement already satisfied: idna in /usr/local/lib/python3.11/dist-packages (from kaggle) (3.10)\n",
            "Requirement already satisfied: protobuf in /usr/local/lib/python3.11/dist-packages (from kaggle) (5.29.4)\n",
            "Requirement already satisfied: python-dateutil>=2.5.3 in /usr/local/lib/python3.11/dist-packages (from kaggle) (2.9.0.post0)\n",
            "Requirement already satisfied: python-slugify in /usr/local/lib/python3.11/dist-packages (from kaggle) (8.0.4)\n",
            "Requirement already satisfied: requests in /usr/local/lib/python3.11/dist-packages (from kaggle) (2.32.3)\n",
            "Requirement already satisfied: setuptools>=21.0.0 in /usr/local/lib/python3.11/dist-packages (from kaggle) (75.2.0)\n",
            "Requirement already satisfied: six>=1.10 in /usr/local/lib/python3.11/dist-packages (from kaggle) (1.17.0)\n",
            "Requirement already satisfied: text-unidecode in /usr/local/lib/python3.11/dist-packages (from kaggle) (1.3)\n",
            "Requirement already satisfied: tqdm in /usr/local/lib/python3.11/dist-packages (from kaggle) (4.67.1)\n",
            "Requirement already satisfied: urllib3>=1.15.1 in /usr/local/lib/python3.11/dist-packages (from kaggle) (2.4.0)\n",
            "Requirement already satisfied: webencodings in /usr/local/lib/python3.11/dist-packages (from kaggle) (0.5.1)\n"
          ]
        }
      ]
    },
    {
      "metadata": {
        "id": "hMY4CFezjcG-"
      },
      "cell_type": "markdown",
      "source": [
        "# Authenticating with Kaggle using kaggle.json\n",
        "\n",
        "Navigate to https://www.kaggle.com. Then go to the [Account tab of your user profile](https://www.kaggle.com/me/account) and select Create API Token. This will trigger the download of kaggle.json, a file containing your API credentials.\n",
        "\n",
        "Then run the cell below to upload kaggle.json to your Colab runtime."
      ]
    },
    {
      "metadata": {
        "id": "0HtGf0HEXEa5",
        "outputId": "e7288497-9a29-4734-e5f6-a2b90107464c",
        "colab": {
          "base_uri": "https://localhost:8080/",
          "height": 90
        }
      },
      "cell_type": "code",
      "source": [
        "from google.colab import files\n",
        "\n",
        "uploaded = files.upload()\n",
        "\n",
        "for fn in uploaded.keys():\n",
        "  print('User uploaded file \"{name}\" with length {length} bytes'.format(\n",
        "      name=fn, length=len(uploaded[fn])))\n",
        "\n",
        "# Then move kaggle.json into the folder where the API expects to find it.\n",
        "!mkdir -p ~/.kaggle/ && mv kaggle.json ~/.kaggle/ && chmod 600 ~/.kaggle/kaggle.json"
      ],
      "execution_count": 2,
      "outputs": [
        {
          "output_type": "display_data",
          "data": {
            "text/plain": [
              "<IPython.core.display.HTML object>"
            ],
            "text/html": [
              "\n",
              "     <input type=\"file\" id=\"files-b8d2d890-6fc3-4452-a78c-c8d8b2c8646f\" name=\"files[]\" multiple disabled\n",
              "        style=\"border:none\" />\n",
              "     <output id=\"result-b8d2d890-6fc3-4452-a78c-c8d8b2c8646f\">\n",
              "      Upload widget is only available when the cell has been executed in the\n",
              "      current browser session. Please rerun this cell to enable.\n",
              "      </output>\n",
              "      <script>// Copyright 2017 Google LLC\n",
              "//\n",
              "// Licensed under the Apache License, Version 2.0 (the \"License\");\n",
              "// you may not use this file except in compliance with the License.\n",
              "// You may obtain a copy of the License at\n",
              "//\n",
              "//      http://www.apache.org/licenses/LICENSE-2.0\n",
              "//\n",
              "// Unless required by applicable law or agreed to in writing, software\n",
              "// distributed under the License is distributed on an \"AS IS\" BASIS,\n",
              "// WITHOUT WARRANTIES OR CONDITIONS OF ANY KIND, either express or implied.\n",
              "// See the License for the specific language governing permissions and\n",
              "// limitations under the License.\n",
              "\n",
              "/**\n",
              " * @fileoverview Helpers for google.colab Python module.\n",
              " */\n",
              "(function(scope) {\n",
              "function span(text, styleAttributes = {}) {\n",
              "  const element = document.createElement('span');\n",
              "  element.textContent = text;\n",
              "  for (const key of Object.keys(styleAttributes)) {\n",
              "    element.style[key] = styleAttributes[key];\n",
              "  }\n",
              "  return element;\n",
              "}\n",
              "\n",
              "// Max number of bytes which will be uploaded at a time.\n",
              "const MAX_PAYLOAD_SIZE = 100 * 1024;\n",
              "\n",
              "function _uploadFiles(inputId, outputId) {\n",
              "  const steps = uploadFilesStep(inputId, outputId);\n",
              "  const outputElement = document.getElementById(outputId);\n",
              "  // Cache steps on the outputElement to make it available for the next call\n",
              "  // to uploadFilesContinue from Python.\n",
              "  outputElement.steps = steps;\n",
              "\n",
              "  return _uploadFilesContinue(outputId);\n",
              "}\n",
              "\n",
              "// This is roughly an async generator (not supported in the browser yet),\n",
              "// where there are multiple asynchronous steps and the Python side is going\n",
              "// to poll for completion of each step.\n",
              "// This uses a Promise to block the python side on completion of each step,\n",
              "// then passes the result of the previous step as the input to the next step.\n",
              "function _uploadFilesContinue(outputId) {\n",
              "  const outputElement = document.getElementById(outputId);\n",
              "  const steps = outputElement.steps;\n",
              "\n",
              "  const next = steps.next(outputElement.lastPromiseValue);\n",
              "  return Promise.resolve(next.value.promise).then((value) => {\n",
              "    // Cache the last promise value to make it available to the next\n",
              "    // step of the generator.\n",
              "    outputElement.lastPromiseValue = value;\n",
              "    return next.value.response;\n",
              "  });\n",
              "}\n",
              "\n",
              "/**\n",
              " * Generator function which is called between each async step of the upload\n",
              " * process.\n",
              " * @param {string} inputId Element ID of the input file picker element.\n",
              " * @param {string} outputId Element ID of the output display.\n",
              " * @return {!Iterable<!Object>} Iterable of next steps.\n",
              " */\n",
              "function* uploadFilesStep(inputId, outputId) {\n",
              "  const inputElement = document.getElementById(inputId);\n",
              "  inputElement.disabled = false;\n",
              "\n",
              "  const outputElement = document.getElementById(outputId);\n",
              "  outputElement.innerHTML = '';\n",
              "\n",
              "  const pickedPromise = new Promise((resolve) => {\n",
              "    inputElement.addEventListener('change', (e) => {\n",
              "      resolve(e.target.files);\n",
              "    });\n",
              "  });\n",
              "\n",
              "  const cancel = document.createElement('button');\n",
              "  inputElement.parentElement.appendChild(cancel);\n",
              "  cancel.textContent = 'Cancel upload';\n",
              "  const cancelPromise = new Promise((resolve) => {\n",
              "    cancel.onclick = () => {\n",
              "      resolve(null);\n",
              "    };\n",
              "  });\n",
              "\n",
              "  // Wait for the user to pick the files.\n",
              "  const files = yield {\n",
              "    promise: Promise.race([pickedPromise, cancelPromise]),\n",
              "    response: {\n",
              "      action: 'starting',\n",
              "    }\n",
              "  };\n",
              "\n",
              "  cancel.remove();\n",
              "\n",
              "  // Disable the input element since further picks are not allowed.\n",
              "  inputElement.disabled = true;\n",
              "\n",
              "  if (!files) {\n",
              "    return {\n",
              "      response: {\n",
              "        action: 'complete',\n",
              "      }\n",
              "    };\n",
              "  }\n",
              "\n",
              "  for (const file of files) {\n",
              "    const li = document.createElement('li');\n",
              "    li.append(span(file.name, {fontWeight: 'bold'}));\n",
              "    li.append(span(\n",
              "        `(${file.type || 'n/a'}) - ${file.size} bytes, ` +\n",
              "        `last modified: ${\n",
              "            file.lastModifiedDate ? file.lastModifiedDate.toLocaleDateString() :\n",
              "                                    'n/a'} - `));\n",
              "    const percent = span('0% done');\n",
              "    li.appendChild(percent);\n",
              "\n",
              "    outputElement.appendChild(li);\n",
              "\n",
              "    const fileDataPromise = new Promise((resolve) => {\n",
              "      const reader = new FileReader();\n",
              "      reader.onload = (e) => {\n",
              "        resolve(e.target.result);\n",
              "      };\n",
              "      reader.readAsArrayBuffer(file);\n",
              "    });\n",
              "    // Wait for the data to be ready.\n",
              "    let fileData = yield {\n",
              "      promise: fileDataPromise,\n",
              "      response: {\n",
              "        action: 'continue',\n",
              "      }\n",
              "    };\n",
              "\n",
              "    // Use a chunked sending to avoid message size limits. See b/62115660.\n",
              "    let position = 0;\n",
              "    do {\n",
              "      const length = Math.min(fileData.byteLength - position, MAX_PAYLOAD_SIZE);\n",
              "      const chunk = new Uint8Array(fileData, position, length);\n",
              "      position += length;\n",
              "\n",
              "      const base64 = btoa(String.fromCharCode.apply(null, chunk));\n",
              "      yield {\n",
              "        response: {\n",
              "          action: 'append',\n",
              "          file: file.name,\n",
              "          data: base64,\n",
              "        },\n",
              "      };\n",
              "\n",
              "      let percentDone = fileData.byteLength === 0 ?\n",
              "          100 :\n",
              "          Math.round((position / fileData.byteLength) * 100);\n",
              "      percent.textContent = `${percentDone}% done`;\n",
              "\n",
              "    } while (position < fileData.byteLength);\n",
              "  }\n",
              "\n",
              "  // All done.\n",
              "  yield {\n",
              "    response: {\n",
              "      action: 'complete',\n",
              "    }\n",
              "  };\n",
              "}\n",
              "\n",
              "scope.google = scope.google || {};\n",
              "scope.google.colab = scope.google.colab || {};\n",
              "scope.google.colab._files = {\n",
              "  _uploadFiles,\n",
              "  _uploadFilesContinue,\n",
              "};\n",
              "})(self);\n",
              "</script> "
            ]
          },
          "metadata": {}
        },
        {
          "output_type": "stream",
          "name": "stdout",
          "text": [
            "Saving kaggle.json to kaggle.json\n",
            "User uploaded file \"kaggle.json\" with length 68 bytes\n"
          ]
        }
      ]
    },
    {
      "metadata": {
        "id": "HMk7Zz4ZkpCe"
      },
      "cell_type": "markdown",
      "source": [
        "# Using the Kaggle API\n",
        "\n",
        "For a more complete list of what you can do with the API, visit https://github.com/Kaggle/kaggle-api."
      ]
    },
    {
      "metadata": {
        "id": "SHVqmMXfilWG"
      },
      "cell_type": "markdown",
      "source": [
        "## Listing competitions"
      ]
    },
    {
      "metadata": {
        "id": "Oqt7Yfi5aQuM",
        "outputId": "40eba9b6-3f80-4512-fc7c-617a3a819cdb",
        "colab": {
          "base_uri": "https://localhost:8080/"
        }
      },
      "cell_type": "code",
      "source": [
        "!kaggle competitions list"
      ],
      "execution_count": 3,
      "outputs": [
        {
          "output_type": "stream",
          "name": "stdout",
          "text": [
            "ref                                                                               deadline             category                reward  teamCount  userHasEntered  \n",
            "--------------------------------------------------------------------------------  -------------------  ---------------  -------------  ---------  --------------  \n",
            "https://www.kaggle.com/competitions/arc-prize-2025                                2025-11-03 23:59:00  Featured         1,000,000 Usd        389           False  \n",
            "https://www.kaggle.com/competitions/openai-to-z-challenge                         2025-06-29 23:59:00  Featured           400,000 Usd          0           False  \n",
            "https://www.kaggle.com/competitions/stanford-rna-3d-folding                       2025-05-29 23:59:00  Featured            75,000 Usd       1374           False  \n",
            "https://www.kaggle.com/competitions/byu-locating-bacterial-flagellar-motors-2025  2025-06-04 23:59:00  Research            65,000 Usd       1006           False  \n",
            "https://www.kaggle.com/competitions/birdclef-2025                                 2025-06-05 23:59:00  Research            50,000 Usd       1785           False  \n",
            "https://www.kaggle.com/competitions/drawing-with-llms                             2025-05-27 23:59:00  Featured            50,000 Usd       1294           False  \n",
            "https://www.kaggle.com/competitions/image-matching-challenge-2025                 2025-06-02 23:59:00  Research            50,000 Usd        779           False  \n",
            "https://www.kaggle.com/competitions/waveform-inversion                            2025-06-30 23:59:00  Research            50,000 Usd        584           False  \n",
            "https://www.kaggle.com/competitions/playground-series-s5e5                        2025-05-31 23:59:00  Playground                Swag       2633           False  \n",
            "https://www.kaggle.com/competitions/titanic                                       2030-01-01 00:00:00  Getting Started      Knowledge      15851           False  \n",
            "https://www.kaggle.com/competitions/home-data-for-ml-course                       2030-01-01 23:59:00  Getting Started      Knowledge       5960           False  \n",
            "https://www.kaggle.com/competitions/house-prices-advanced-regression-techniques   2030-01-01 00:00:00  Getting Started      Knowledge       4645           False  \n",
            "https://www.kaggle.com/competitions/spaceship-titanic                             2030-01-01 00:00:00  Getting Started      Knowledge       2116           False  \n",
            "https://www.kaggle.com/competitions/digit-recognizer                              2030-01-01 00:00:00  Getting Started      Knowledge       1627           False  \n",
            "https://www.kaggle.com/competitions/nlp-getting-started                           2030-01-01 00:00:00  Getting Started      Knowledge        901           False  \n",
            "https://www.kaggle.com/competitions/store-sales-time-series-forecasting           2030-06-30 23:59:00  Getting Started      Knowledge        745           False  \n",
            "https://www.kaggle.com/competitions/llm-classification-finetuning                 2030-07-01 23:59:00  Getting Started      Knowledge        253           False  \n",
            "https://www.kaggle.com/competitions/connectx                                      2030-01-01 00:00:00  Getting Started      Knowledge        193           False  \n",
            "https://www.kaggle.com/competitions/gan-getting-started                           2030-07-01 23:59:00  Getting Started      Knowledge        129           False  \n",
            "https://www.kaggle.com/competitions/contradictory-my-dear-watson                  2030-07-01 23:59:00  Getting Started      Knowledge         64           False  \n"
          ]
        }
      ]
    },
    {
      "metadata": {
        "id": "dNke00r6ig3h"
      },
      "cell_type": "markdown",
      "source": [
        "## Downloading a dataset"
      ]
    },
    {
      "metadata": {
        "id": "Aojvqv8Gaf8I",
        "colab": {
          "base_uri": "https://localhost:8080/"
        },
        "outputId": "42d45ab8-ba57-4351-a1fd-a4a9a6ab0b16"
      },
      "cell_type": "code",
      "source": [
        "!kaggle datasets download \"center-for-policing-equity/data-science-for-good\""
      ],
      "execution_count": 4,
      "outputs": [
        {
          "output_type": "stream",
          "name": "stdout",
          "text": [
            "Dataset URL: https://www.kaggle.com/datasets/center-for-policing-equity/data-science-for-good\n",
            "License(s): CC0-1.0\n",
            "Downloading data-science-for-good.zip to /content\n",
            "  0% 0.00/94.7M [00:00<?, ?B/s]\n",
            "100% 94.7M/94.7M [00:00<00:00, 1.46GB/s]\n"
          ]
        }
      ]
    },
    {
      "metadata": {
        "id": "DsyV01gDaxls"
      },
      "cell_type": "code",
      "source": [
        "!unzip data-science-for-good.zip"
      ],
      "execution_count": null,
      "outputs": []
    },
    {
      "metadata": {
        "id": "L7ZmFbHybsPk",
        "outputId": "f5fc68d7-a3e7-4a4e-9f61-10de044244b1",
        "colab": {
          "base_uri": "https://localhost:8080/",
          "height": 491
        }
      },
      "cell_type": "code",
      "source": [
        "import pandas as pd\n",
        "\n",
        "basepath = \"Dept_23-00089/23-00089_ACS_data/23-00089_ACS_race-sex-age/\"\n",
        "rca_df = pd.read_csv(basepath + \"ACS_15_5YR_DP05_with_ann.csv\")\n",
        "rca_df.head()"
      ],
      "execution_count": null,
      "outputs": [
        {
          "output_type": "execute_result",
          "data": {
            "text/html": [
              "<div>\n",
              "<style scoped>\n",
              "    .dataframe tbody tr th:only-of-type {\n",
              "        vertical-align: middle;\n",
              "    }\n",
              "\n",
              "    .dataframe tbody tr th {\n",
              "        vertical-align: top;\n",
              "    }\n",
              "\n",
              "    .dataframe thead th {\n",
              "        text-align: right;\n",
              "    }\n",
              "</style>\n",
              "<table border=\"1\" class=\"dataframe\">\n",
              "  <thead>\n",
              "    <tr style=\"text-align: right;\">\n",
              "      <th></th>\n",
              "      <th>GEO.id</th>\n",
              "      <th>GEO.id2</th>\n",
              "      <th>GEO.display-label</th>\n",
              "      <th>HC01_VC03</th>\n",
              "      <th>HC02_VC03</th>\n",
              "      <th>HC03_VC03</th>\n",
              "      <th>HC04_VC03</th>\n",
              "      <th>HC01_VC04</th>\n",
              "      <th>HC02_VC04</th>\n",
              "      <th>HC03_VC04</th>\n",
              "      <th>...</th>\n",
              "      <th>HC03_VC108</th>\n",
              "      <th>HC04_VC108</th>\n",
              "      <th>HC01_VC109</th>\n",
              "      <th>HC02_VC109</th>\n",
              "      <th>HC03_VC109</th>\n",
              "      <th>HC04_VC109</th>\n",
              "      <th>HC01_VC110</th>\n",
              "      <th>HC02_VC110</th>\n",
              "      <th>HC03_VC110</th>\n",
              "      <th>HC04_VC110</th>\n",
              "    </tr>\n",
              "  </thead>\n",
              "  <tbody>\n",
              "    <tr>\n",
              "      <th>0</th>\n",
              "      <td>Id</td>\n",
              "      <td>Id2</td>\n",
              "      <td>Geography</td>\n",
              "      <td>Estimate; SEX AND AGE - Total population</td>\n",
              "      <td>Margin of Error; SEX AND AGE - Total population</td>\n",
              "      <td>Percent; SEX AND AGE - Total population</td>\n",
              "      <td>Percent Margin of Error; SEX AND AGE - Total p...</td>\n",
              "      <td>Estimate; SEX AND AGE - Total population - Male</td>\n",
              "      <td>Margin of Error; SEX AND AGE - Total populatio...</td>\n",
              "      <td>Percent; SEX AND AGE - Total population - Male</td>\n",
              "      <td>...</td>\n",
              "      <td>Percent; CITIZEN, VOTING AGE POPULATION - Citi...</td>\n",
              "      <td>Percent Margin of Error; CITIZEN, VOTING AGE P...</td>\n",
              "      <td>Estimate; CITIZEN, VOTING AGE POPULATION - Cit...</td>\n",
              "      <td>Margin of Error; CITIZEN, VOTING AGE POPULATIO...</td>\n",
              "      <td>Percent; CITIZEN, VOTING AGE POPULATION - Citi...</td>\n",
              "      <td>Percent Margin of Error; CITIZEN, VOTING AGE P...</td>\n",
              "      <td>Estimate; CITIZEN, VOTING AGE POPULATION - Cit...</td>\n",
              "      <td>Margin of Error; CITIZEN, VOTING AGE POPULATIO...</td>\n",
              "      <td>Percent; CITIZEN, VOTING AGE POPULATION - Citi...</td>\n",
              "      <td>Percent Margin of Error; CITIZEN, VOTING AGE P...</td>\n",
              "    </tr>\n",
              "    <tr>\n",
              "      <th>1</th>\n",
              "      <td>1400000US18097310103</td>\n",
              "      <td>18097310103</td>\n",
              "      <td>Census Tract 3101.03, Marion County, Indiana</td>\n",
              "      <td>6700</td>\n",
              "      <td>435</td>\n",
              "      <td>6700</td>\n",
              "      <td>(X)</td>\n",
              "      <td>3167</td>\n",
              "      <td>419</td>\n",
              "      <td>47.3</td>\n",
              "      <td>...</td>\n",
              "      <td>4881</td>\n",
              "      <td>(X)</td>\n",
              "      <td>2167</td>\n",
              "      <td>208</td>\n",
              "      <td>44.4</td>\n",
              "      <td>3.3</td>\n",
              "      <td>2714</td>\n",
              "      <td>234</td>\n",
              "      <td>55.6</td>\n",
              "      <td>3.3</td>\n",
              "    </tr>\n",
              "    <tr>\n",
              "      <th>2</th>\n",
              "      <td>1400000US18097310104</td>\n",
              "      <td>18097310104</td>\n",
              "      <td>Census Tract 3101.04, Marion County, Indiana</td>\n",
              "      <td>3309</td>\n",
              "      <td>283</td>\n",
              "      <td>3309</td>\n",
              "      <td>(X)</td>\n",
              "      <td>1374</td>\n",
              "      <td>217</td>\n",
              "      <td>41.5</td>\n",
              "      <td>...</td>\n",
              "      <td>2988</td>\n",
              "      <td>(X)</td>\n",
              "      <td>1179</td>\n",
              "      <td>194</td>\n",
              "      <td>39.5</td>\n",
              "      <td>6.2</td>\n",
              "      <td>1809</td>\n",
              "      <td>244</td>\n",
              "      <td>60.5</td>\n",
              "      <td>6.2</td>\n",
              "    </tr>\n",
              "    <tr>\n",
              "      <th>3</th>\n",
              "      <td>1400000US18097310105</td>\n",
              "      <td>18097310105</td>\n",
              "      <td>Census Tract 3101.05, Marion County, Indiana</td>\n",
              "      <td>3612</td>\n",
              "      <td>272</td>\n",
              "      <td>3612</td>\n",
              "      <td>(X)</td>\n",
              "      <td>1886</td>\n",
              "      <td>186</td>\n",
              "      <td>52.2</td>\n",
              "      <td>...</td>\n",
              "      <td>2546</td>\n",
              "      <td>(X)</td>\n",
              "      <td>1280</td>\n",
              "      <td>113</td>\n",
              "      <td>50.3</td>\n",
              "      <td>4.3</td>\n",
              "      <td>1266</td>\n",
              "      <td>158</td>\n",
              "      <td>49.7</td>\n",
              "      <td>4.3</td>\n",
              "    </tr>\n",
              "    <tr>\n",
              "      <th>4</th>\n",
              "      <td>1400000US18097310106</td>\n",
              "      <td>18097310106</td>\n",
              "      <td>Census Tract 3101.06, Marion County, Indiana</td>\n",
              "      <td>3871</td>\n",
              "      <td>489</td>\n",
              "      <td>3871</td>\n",
              "      <td>(X)</td>\n",
              "      <td>1802</td>\n",
              "      <td>327</td>\n",
              "      <td>46.6</td>\n",
              "      <td>...</td>\n",
              "      <td>3078</td>\n",
              "      <td>(X)</td>\n",
              "      <td>1267</td>\n",
              "      <td>234</td>\n",
              "      <td>41.2</td>\n",
              "      <td>5.6</td>\n",
              "      <td>1811</td>\n",
              "      <td>262</td>\n",
              "      <td>58.8</td>\n",
              "      <td>5.6</td>\n",
              "    </tr>\n",
              "  </tbody>\n",
              "</table>\n",
              "<p>5 rows × 339 columns</p>\n",
              "</div>"
            ],
            "text/plain": [
              "                 GEO.id      GEO.id2  \\\n",
              "0                    Id          Id2   \n",
              "1  1400000US18097310103  18097310103   \n",
              "2  1400000US18097310104  18097310104   \n",
              "3  1400000US18097310105  18097310105   \n",
              "4  1400000US18097310106  18097310106   \n",
              "\n",
              "                              GEO.display-label  \\\n",
              "0                                     Geography   \n",
              "1  Census Tract 3101.03, Marion County, Indiana   \n",
              "2  Census Tract 3101.04, Marion County, Indiana   \n",
              "3  Census Tract 3101.05, Marion County, Indiana   \n",
              "4  Census Tract 3101.06, Marion County, Indiana   \n",
              "\n",
              "                                  HC01_VC03  \\\n",
              "0  Estimate; SEX AND AGE - Total population   \n",
              "1                                      6700   \n",
              "2                                      3309   \n",
              "3                                      3612   \n",
              "4                                      3871   \n",
              "\n",
              "                                         HC02_VC03  \\\n",
              "0  Margin of Error; SEX AND AGE - Total population   \n",
              "1                                              435   \n",
              "2                                              283   \n",
              "3                                              272   \n",
              "4                                              489   \n",
              "\n",
              "                                 HC03_VC03  \\\n",
              "0  Percent; SEX AND AGE - Total population   \n",
              "1                                     6700   \n",
              "2                                     3309   \n",
              "3                                     3612   \n",
              "4                                     3871   \n",
              "\n",
              "                                           HC04_VC03  \\\n",
              "0  Percent Margin of Error; SEX AND AGE - Total p...   \n",
              "1                                                (X)   \n",
              "2                                                (X)   \n",
              "3                                                (X)   \n",
              "4                                                (X)   \n",
              "\n",
              "                                         HC01_VC04  \\\n",
              "0  Estimate; SEX AND AGE - Total population - Male   \n",
              "1                                             3167   \n",
              "2                                             1374   \n",
              "3                                             1886   \n",
              "4                                             1802   \n",
              "\n",
              "                                           HC02_VC04  \\\n",
              "0  Margin of Error; SEX AND AGE - Total populatio...   \n",
              "1                                                419   \n",
              "2                                                217   \n",
              "3                                                186   \n",
              "4                                                327   \n",
              "\n",
              "                                        HC03_VC04  \\\n",
              "0  Percent; SEX AND AGE - Total population - Male   \n",
              "1                                            47.3   \n",
              "2                                            41.5   \n",
              "3                                            52.2   \n",
              "4                                            46.6   \n",
              "\n",
              "                         ...                          \\\n",
              "0                        ...                           \n",
              "1                        ...                           \n",
              "2                        ...                           \n",
              "3                        ...                           \n",
              "4                        ...                           \n",
              "\n",
              "                                          HC03_VC108  \\\n",
              "0  Percent; CITIZEN, VOTING AGE POPULATION - Citi...   \n",
              "1                                               4881   \n",
              "2                                               2988   \n",
              "3                                               2546   \n",
              "4                                               3078   \n",
              "\n",
              "                                          HC04_VC108  \\\n",
              "0  Percent Margin of Error; CITIZEN, VOTING AGE P...   \n",
              "1                                                (X)   \n",
              "2                                                (X)   \n",
              "3                                                (X)   \n",
              "4                                                (X)   \n",
              "\n",
              "                                          HC01_VC109  \\\n",
              "0  Estimate; CITIZEN, VOTING AGE POPULATION - Cit...   \n",
              "1                                               2167   \n",
              "2                                               1179   \n",
              "3                                               1280   \n",
              "4                                               1267   \n",
              "\n",
              "                                          HC02_VC109  \\\n",
              "0  Margin of Error; CITIZEN, VOTING AGE POPULATIO...   \n",
              "1                                                208   \n",
              "2                                                194   \n",
              "3                                                113   \n",
              "4                                                234   \n",
              "\n",
              "                                          HC03_VC109  \\\n",
              "0  Percent; CITIZEN, VOTING AGE POPULATION - Citi...   \n",
              "1                                               44.4   \n",
              "2                                               39.5   \n",
              "3                                               50.3   \n",
              "4                                               41.2   \n",
              "\n",
              "                                          HC04_VC109  \\\n",
              "0  Percent Margin of Error; CITIZEN, VOTING AGE P...   \n",
              "1                                                3.3   \n",
              "2                                                6.2   \n",
              "3                                                4.3   \n",
              "4                                                5.6   \n",
              "\n",
              "                                          HC01_VC110  \\\n",
              "0  Estimate; CITIZEN, VOTING AGE POPULATION - Cit...   \n",
              "1                                               2714   \n",
              "2                                               1809   \n",
              "3                                               1266   \n",
              "4                                               1811   \n",
              "\n",
              "                                          HC02_VC110  \\\n",
              "0  Margin of Error; CITIZEN, VOTING AGE POPULATIO...   \n",
              "1                                                234   \n",
              "2                                                244   \n",
              "3                                                158   \n",
              "4                                                262   \n",
              "\n",
              "                                          HC03_VC110  \\\n",
              "0  Percent; CITIZEN, VOTING AGE POPULATION - Citi...   \n",
              "1                                               55.6   \n",
              "2                                               60.5   \n",
              "3                                               49.7   \n",
              "4                                               58.8   \n",
              "\n",
              "                                          HC04_VC110  \n",
              "0  Percent Margin of Error; CITIZEN, VOTING AGE P...  \n",
              "1                                                3.3  \n",
              "2                                                6.2  \n",
              "3                                                4.3  \n",
              "4                                                5.6  \n",
              "\n",
              "[5 rows x 339 columns]"
            ]
          },
          "metadata": {
            "tags": []
          },
          "execution_count": 7
        }
      ]
    },
    {
      "metadata": {
        "id": "TAsW4MYsb_1k",
        "outputId": "fa57a04a-8fbf-4610-d29c-17314ccee742",
        "colab": {
          "base_uri": "https://localhost:8080/",
          "height": 204
        }
      },
      "cell_type": "code",
      "source": [
        "a_df = pd.read_csv(basepath + \"ACS_15_5YR_DP05_metadata.csv\")\n",
        "a_df.head()"
      ],
      "execution_count": null,
      "outputs": [
        {
          "output_type": "execute_result",
          "data": {
            "text/html": [
              "<div>\n",
              "<style scoped>\n",
              "    .dataframe tbody tr th:only-of-type {\n",
              "        vertical-align: middle;\n",
              "    }\n",
              "\n",
              "    .dataframe tbody tr th {\n",
              "        vertical-align: top;\n",
              "    }\n",
              "\n",
              "    .dataframe thead th {\n",
              "        text-align: right;\n",
              "    }\n",
              "</style>\n",
              "<table border=\"1\" class=\"dataframe\">\n",
              "  <thead>\n",
              "    <tr style=\"text-align: right;\">\n",
              "      <th></th>\n",
              "      <th>GEO.id</th>\n",
              "      <th>Id</th>\n",
              "    </tr>\n",
              "  </thead>\n",
              "  <tbody>\n",
              "    <tr>\n",
              "      <th>0</th>\n",
              "      <td>GEO.id2</td>\n",
              "      <td>Id2</td>\n",
              "    </tr>\n",
              "    <tr>\n",
              "      <th>1</th>\n",
              "      <td>GEO.display-label</td>\n",
              "      <td>Geography</td>\n",
              "    </tr>\n",
              "    <tr>\n",
              "      <th>2</th>\n",
              "      <td>HC01_VC03</td>\n",
              "      <td>Estimate; SEX AND AGE - Total population</td>\n",
              "    </tr>\n",
              "    <tr>\n",
              "      <th>3</th>\n",
              "      <td>HC02_VC03</td>\n",
              "      <td>Margin of Error; SEX AND AGE - Total population</td>\n",
              "    </tr>\n",
              "    <tr>\n",
              "      <th>4</th>\n",
              "      <td>HC03_VC03</td>\n",
              "      <td>Percent; SEX AND AGE - Total population</td>\n",
              "    </tr>\n",
              "  </tbody>\n",
              "</table>\n",
              "</div>"
            ],
            "text/plain": [
              "              GEO.id                                               Id\n",
              "0            GEO.id2                                              Id2\n",
              "1  GEO.display-label                                        Geography\n",
              "2          HC01_VC03         Estimate; SEX AND AGE - Total population\n",
              "3          HC02_VC03  Margin of Error; SEX AND AGE - Total population\n",
              "4          HC03_VC03          Percent; SEX AND AGE - Total population"
            ]
          },
          "metadata": {
            "tags": []
          },
          "execution_count": 8
        }
      ]
    },
    {
      "metadata": {
        "id": "SxdB6P_ulkfa"
      },
      "cell_type": "markdown",
      "source": [
        "## Uploading a Colab notebook to Kaggle Kernels\n",
        "\n",
        "Bear with us, as this is a little round-about..."
      ]
    },
    {
      "metadata": {
        "id": "o-NDs2dImDG0"
      },
      "cell_type": "markdown",
      "source": [
        "### Downloading a notebook from Colab\n",
        "\n",
        "To download from Colab, use **File** | **Download .ipynb**"
      ]
    },
    {
      "metadata": {
        "id": "zUMAuin2mbbW"
      },
      "cell_type": "markdown",
      "source": [
        "### Then upload the notebook to your Colab runtime"
      ]
    },
    {
      "metadata": {
        "id": "qox_MozfmF2Y"
      },
      "cell_type": "code",
      "source": [
        "uploaded = files.upload()\n",
        "notebook_path = list(uploaded.keys())[0]"
      ],
      "execution_count": null,
      "outputs": []
    },
    {
      "metadata": {
        "id": "7BT_rPcuoMsd"
      },
      "cell_type": "code",
      "source": [
        "!mkdir -p export\n",
        "!mv $notebook_path export/\n",
        "!kaggle kernels init -p export"
      ],
      "execution_count": null,
      "outputs": []
    },
    {
      "metadata": {
        "id": "Ls0Umf85q9UE"
      },
      "cell_type": "code",
      "source": [
        "import re\n",
        "your_kaggle_username = 'Your kaggle username'\n",
        "notebook_title = 'New Kernel'\n",
        "new_kernel_slug = re.sub(r'[^a-z0-9]+', '-', notebook_title.lower())"
      ],
      "execution_count": null,
      "outputs": []
    },
    {
      "metadata": {
        "id": "rp62OpkCo5D3"
      },
      "cell_type": "code",
      "source": [
        "# Documented here: https://github.com/Kaggle/kaggle-api/wiki/Kernel-Metadata\n",
        "metadata = '''\n",
        "{\n",
        "  \"id\": \"%s/%s\",\n",
        "  \"title\": \"%s\",\n",
        "  \"code_file\": \"%s\",\n",
        "  \"language\": \"python\",\n",
        "  \"kernel_type\": \"notebook\",\n",
        "  \"is_private\": \"true\",\n",
        "  \"enable_gpu\": \"false\",\n",
        "  \"enable_internet\": \"true\",\n",
        "  \"dataset_sources\": [],\n",
        "  \"competition_sources\": [],\n",
        "  \"kernel_sources\": []\n",
        "}\n",
        "''' % (your_kaggle_username, new_kernel_slug, notebook_title, notebook_path)"
      ],
      "execution_count": null,
      "outputs": []
    },
    {
      "metadata": {
        "id": "PyX-cbzIoj-V"
      },
      "cell_type": "code",
      "source": [
        "!echo '$metadata' > export/kernel-metadata.json\n",
        "!cat export/kernel-metadata.json"
      ],
      "execution_count": null,
      "outputs": []
    },
    {
      "metadata": {
        "id": "VDP5xJPklqYk"
      },
      "cell_type": "code",
      "source": [
        "!kaggle kernels push -p export"
      ],
      "execution_count": null,
      "outputs": []
    }
  ]
}