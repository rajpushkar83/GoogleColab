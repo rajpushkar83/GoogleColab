{
  "nbformat": 4,
  "nbformat_minor": 0,
  "metadata": {
    "colab": {
      "provenance": [],
      "authorship_tag": "ABX9TyNd7qJuhSF4TkLyC6ypMDJP",
      "include_colab_link": true
    },
    "kernelspec": {
      "name": "python3",
      "display_name": "Python 3"
    },
    "language_info": {
      "name": "python"
    }
  },
  "cells": [
    {
      "cell_type": "markdown",
      "metadata": {
        "id": "view-in-github",
        "colab_type": "text"
      },
      "source": [
        "<a href=\"https://colab.research.google.com/github/rajpushkar83/GoogleColab/blob/main/data_loading.ipynb\" target=\"_parent\"><img src=\"https://colab.research.google.com/assets/colab-badge.svg\" alt=\"Open In Colab\"/></a>"
      ]
    },
    {
      "cell_type": "code",
      "execution_count": null,
      "metadata": {
        "id": "-ROX3zkJmNH0"
      },
      "outputs": [],
      "source": [
        "from sklearn.datasets import load_wine\n",
        "from sklearn.model_selection import train_test_split\n",
        "import pandas as pd\n",
        "import joblib\n",
        "\n",
        "def load_data():\n",
        "    # Load the wine dataset\n",
        "    wine = load_wine(as_frame=True)\n",
        "    data = pd.DataFrame(data=wine.data, columns=wine.feature_names)\n",
        "    data[\"target\"] = wine.target\n",
        "    print(data.head())\n",
        "    return data\n",
        "\n",
        "def split_data(data, target_column=\"target\"):\n",
        "    X = data.drop(columns=[target_column])\n",
        "    y = data[target_column]\n",
        "    X_train, X_test, y_train, y_test = train_test_split(\n",
        "        X, y, test_size=0.2, random_state=42\n",
        "    )\n",
        "    return X_train, X_test, y_train, y_test\n",
        "\n",
        "def save_preprocessed_data(X_train, X_test, y_train, y_test, file_path):\n",
        "    joblib.dump((X_train, X_test, y_train, y_test), file_path)\n",
        "\n",
        "\n",
        "if __name__ == \"__main__\":\n",
        "    data = load_data()\n",
        "    X_train, X_test, y_train, y_test = split_data(data)\n",
        "    save_preprocessed_data(X_train, X_test, y_train, y_test, \"preprocessed_data.pkl\")"
      ]
    }
  ]
}