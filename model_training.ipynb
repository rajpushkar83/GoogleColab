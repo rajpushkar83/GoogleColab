{
  "nbformat": 4,
  "nbformat_minor": 0,
  "metadata": {
    "colab": {
      "provenance": [],
      "authorship_tag": "ABX9TyOSMWAGDPGmUkUdwNXNVngl",
      "include_colab_link": true
    },
    "kernelspec": {
      "name": "python3",
      "display_name": "Python 3"
    },
    "language_info": {
      "name": "python"
    }
  },
  "cells": [
    {
      "cell_type": "markdown",
      "metadata": {
        "id": "view-in-github",
        "colab_type": "text"
      },
      "source": [
        "<a href=\"https://colab.research.google.com/github/rajpushkar83/GoogleColab/blob/main/model_training.ipynb\" target=\"_parent\"><img src=\"https://colab.research.google.com/assets/colab-badge.svg\" alt=\"Open In Colab\"/></a>"
      ]
    },
    {
      "cell_type": "code",
      "execution_count": null,
      "metadata": {
        "id": "giPcIFLWoAXF"
      },
      "outputs": [],
      "source": [
        "from sklearn.ensemble import RandomForestClassifier\n",
        "import joblib\n",
        "\n",
        "def load_preprocessed_data(file_path):\n",
        "    return joblib.load(file_path)\n",
        "\n",
        "def train_model(X_train, y_train):\n",
        "    model = RandomForestClassifier(n_estimators=100, random_state=42)\n",
        "    model.fit(X_train, y_train)\n",
        "    return model\n",
        "\n",
        "def save_model(model, file_path):\n",
        "    joblib.dump(model, file_path)\n",
        "\n",
        "\n",
        "if __name__ == \"__main__\":\n",
        "    X_train, X_test, y_train, y_test = load_preprocessed_data(\"preprocessed_data.pkl\")\n",
        "\n",
        "    model = train_model(X_train, y_train)\n",
        "    save_model(model, \"model.pkl\")"
      ]
    }
  ]
}