{
  "nbformat": 4,
  "nbformat_minor": 0,
  "metadata": {
    "colab": {
      "provenance": [],
      "authorship_tag": "ABX9TyOP2NhpFoUsL5SejxZUwpIQ",
      "include_colab_link": true
    },
    "kernelspec": {
      "name": "python3",
      "display_name": "Python 3"
    },
    "language_info": {
      "name": "python"
    }
  },
  "cells": [
    {
      "cell_type": "markdown",
      "metadata": {
        "id": "view-in-github",
        "colab_type": "text"
      },
      "source": [
        "<a href=\"https://colab.research.google.com/github/rajpushkar83/GoogleColab/blob/main/kaggledata.ipynb\" target=\"_parent\"><img src=\"https://colab.research.google.com/assets/colab-badge.svg\" alt=\"Open In Colab\"/></a>"
      ]
    },
    {
      "cell_type": "code",
      "execution_count": null,
      "metadata": {
        "id": "GSP2fVfj4ZdJ"
      },
      "outputs": [],
      "source": [
        "List_a = [2,3,-3,4]"
      ]
    },
    {
      "cell_type": "code",
      "source": [
        "max_product_list_a = list_a[1] * list_a[2]\n",
        "for i in 1 to len(list_a)\n",
        "  for j in 2 to len(list_a)\n",
        "       max_product_list_a_temp = list_a[i] * list_a[j]\n",
        "\n",
        "  if max_product_list_a_temp > max_product_list_a\n",
        "     max_product_list_a_temp = max_product_list_a\n",
        "prine(max_list_a)\n"
      ],
      "metadata": {
        "colab": {
          "base_uri": "https://localhost:8080/",
          "height": 110
        },
        "id": "aTFDrOV64vro",
        "outputId": "aa9001de-b3b8-4223-8fce-359d1bd795ae"
      },
      "execution_count": null,
      "outputs": [
        {
          "output_type": "error",
          "ename": "SyntaxError",
          "evalue": "invalid syntax (<ipython-input-8-6cf513cdd27d>, line 2)",
          "traceback": [
            "\u001b[0;36m  File \u001b[0;32m\"<ipython-input-8-6cf513cdd27d>\"\u001b[0;36m, line \u001b[0;32m2\u001b[0m\n\u001b[0;31m    for i in 2 to len(list_a)\u001b[0m\n\u001b[0m               ^\u001b[0m\n\u001b[0;31mSyntaxError\u001b[0m\u001b[0;31m:\u001b[0m invalid syntax\n"
          ]
        }
      ]
    },
    {
      "cell_type": "code",
      "source": [
        "select employee id , salary_amt from salary order by salary desc nrow =2"
      ],
      "metadata": {
        "id": "TUCi2k9D6jco"
      },
      "execution_count": null,
      "outputs": []
    },
    {
      "cell_type": "code",
      "source": [
        "df['temparture'].is_null"
      ],
      "metadata": {
        "id": "RJdO_nI-895h"
      },
      "execution_count": null,
      "outputs": []
    },
    {
      "cell_type": "code",
      "source": [
        "from google.colab import files\n",
        "\n",
        "uploaded = files.upload()\n",
        "\n",
        "for fn in uploaded.keys():\n",
        "  print('User uploaded file \"{name}\" with length {length} bytes'.format(\n",
        "      name=fn, length=len(uploaded[fn])))\n",
        "\n",
        "# Then move kaggle.json into the folder where the API expects to find it.\n",
        "!mkdir -p ~/.kaggle/ && mv kaggle.json ~/.kaggle/ && chmod 600 ~/.kaggle/kaggle.json"
      ],
      "metadata": {
        "id": "-icA3aaLsuUk"
      },
      "execution_count": null,
      "outputs": []
    },
    {
      "cell_type": "code",
      "source": [
        "!kaggle competitions list"
      ],
      "metadata": {
        "id": "AyiGkbKcsyCZ"
      },
      "execution_count": null,
      "outputs": []
    },
    {
      "cell_type": "code",
      "source": [
        "!kaggle datasets download \"center-for-policing-equity/data-science-for-good\""
      ],
      "metadata": {
        "id": "QCjiu6qNs13m"
      },
      "execution_count": null,
      "outputs": []
    },
    {
      "cell_type": "code",
      "source": [
        "!unzip data-science-for-good.zip"
      ],
      "metadata": {
        "id": "VkxyIqJSs5X5"
      },
      "execution_count": null,
      "outputs": []
    },
    {
      "cell_type": "code",
      "source": [
        "import pandas as pd\n",
        "\n",
        "basepath = \"Dept_23-00089/23-00089_ACS_data/23-00089_ACS_race-sex-age/\"\n",
        "rca_df = pd.read_csv(basepath + \"ACS_15_5YR_DP05_with_ann.csv\")\n",
        "rca_df.head()"
      ],
      "metadata": {
        "id": "RDj3XaL0s6_n"
      },
      "execution_count": null,
      "outputs": []
    },
    {
      "cell_type": "code",
      "source": [
        "a_df = pd.read_csv(basepath + \"ACS_15_5YR_DP05_metadata.csv\")\n",
        "a_df.head()"
      ],
      "metadata": {
        "id": "4X5Ldsj2tBg-"
      },
      "execution_count": null,
      "outputs": []
    }
  ]
}