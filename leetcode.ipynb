{
  "nbformat": 4,
  "nbformat_minor": 0,
  "metadata": {
    "colab": {
      "provenance": [],
      "authorship_tag": "ABX9TyMxS0LOvBGo83S3pBSY2cGr",
      "include_colab_link": true
    },
    "kernelspec": {
      "name": "python3",
      "display_name": "Python 3"
    },
    "language_info": {
      "name": "python"
    }
  },
  "cells": [
    {
      "cell_type": "markdown",
      "metadata": {
        "id": "view-in-github",
        "colab_type": "text"
      },
      "source": [
        "<a href=\"https://colab.research.google.com/github/rajpushkar83/GoogleColab/blob/main/leetcode.ipynb\" target=\"_parent\"><img src=\"https://colab.research.google.com/assets/colab-badge.svg\" alt=\"Open In Colab\"/></a>"
      ]
    },
    {
      "cell_type": "code",
      "execution_count": null,
      "metadata": {
        "id": "GSP2fVfj4ZdJ"
      },
      "outputs": [],
      "source": [
        "List_a = [2,3,-3,4]"
      ]
    },
    {
      "cell_type": "code",
      "source": [
        "max_product_list_a = list_a[1] * list_a[2]\n",
        "for i in 1 to len(list_a)\n",
        "  for j in 2 to len(list_a)\n",
        "       max_product_list_a_temp = list_a[i] * list_a[j]\n",
        "\n",
        "  if max_product_list_a_temp > max_product_list_a\n",
        "     max_product_list_a_temp = max_product_list_a\n",
        "prine(max_list_a)\n"
      ],
      "metadata": {
        "colab": {
          "base_uri": "https://localhost:8080/",
          "height": 110
        },
        "id": "aTFDrOV64vro",
        "outputId": "aa9001de-b3b8-4223-8fce-359d1bd795ae"
      },
      "execution_count": null,
      "outputs": [
        {
          "output_type": "error",
          "ename": "SyntaxError",
          "evalue": "invalid syntax (<ipython-input-8-6cf513cdd27d>, line 2)",
          "traceback": [
            "\u001b[0;36m  File \u001b[0;32m\"<ipython-input-8-6cf513cdd27d>\"\u001b[0;36m, line \u001b[0;32m2\u001b[0m\n\u001b[0;31m    for i in 2 to len(list_a)\u001b[0m\n\u001b[0m               ^\u001b[0m\n\u001b[0;31mSyntaxError\u001b[0m\u001b[0;31m:\u001b[0m invalid syntax\n"
          ]
        }
      ]
    },
    {
      "cell_type": "code",
      "source": [
        "select employee id , salary_amt from salary order by salary desc nrow =2"
      ],
      "metadata": {
        "id": "TUCi2k9D6jco"
      },
      "execution_count": null,
      "outputs": []
    },
    {
      "cell_type": "code",
      "source": [
        "df['temparture'].is_null"
      ],
      "metadata": {
        "id": "RJdO_nI-895h"
      },
      "execution_count": null,
      "outputs": []
    }
  ]
}